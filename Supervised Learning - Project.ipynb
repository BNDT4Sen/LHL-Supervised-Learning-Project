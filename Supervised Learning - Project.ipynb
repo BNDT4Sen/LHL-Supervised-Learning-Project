{
 "cells": [
  {
   "cell_type": "markdown",
   "id": "3e985673",
   "metadata": {},
   "source": [
    "# Supervised Learning - Project"
   ]
  },
  {
   "cell_type": "markdown",
   "id": "08aa509e",
   "metadata": {},
   "source": [
    "In this Project, we are going to perform a full supervised learning machine learning project on a \"Diabetes\" dataset. This dataset is originally from the National Institute of Diabetes and Digestive and Kidney\n",
    "Diseases. The objective of the dataset is to diagnostically predict whether a patient has diabetes,\n",
    "based on certain diagnostic measurements included in the dataset. \n",
    "\n",
    "[Kaggle Dataset](https://www.kaggle.com/datasets/akshaydattatraykhare/diabetes-dataset)"
   ]
  },
  {
   "cell_type": "markdown",
   "id": "4e3e6a19",
   "metadata": {},
   "source": [
    "# Part I : EDA - Exploratory Data Analysis"
   ]
  },
  {
   "cell_type": "markdown",
   "id": "0d46714a",
   "metadata": {},
   "source": [
    "For this task, you are required to conduct an exploratory data analysis on the diabetes dataset. You have the freedom to choose the visualizations you want to use, but your analysis should cover the following tasks mostly:\n",
    "\n",
    "- Are there any missing values in the dataset?\n",
    "- How are the predictor variables related to the outcome variable?\n",
    "- What is the correlation between the predictor variables?\n",
    "- What is the distribution of each predictor variable?\n",
    "- Are there any outliers in the predictor variables?\n",
    "- How are the predictor variables related to each other?\n",
    "- Is there any interaction effect between the predictor variables?\n",
    "- What is the average age of the individuals in the dataset?\n",
    "- What is the average glucose level for individuals with diabetes and without diabetes?\n",
    "- What is the average BMI for individuals with diabetes and without diabetes?\n",
    "- How does the distribution of the predictor variables differ for individuals with diabetes and without diabetes?\n",
    "- Are there any differences in the predictor variables between males and females (if gender information is available)?"
   ]
  },
  {
   "cell_type": "code",
   "execution_count": null,
   "id": "3041e6a8",
   "metadata": {},
   "outputs": [],
   "source": [
    "See EDA.ipynb"
   ]
  },
  {
   "cell_type": "markdown",
   "id": "29a9ddd5",
   "metadata": {},
   "source": [
    "# Part II : Preprocessing & Feature Engineering"
   ]
  },
  {
   "cell_type": "markdown",
   "id": "0efa25cc",
   "metadata": {},
   "source": [
    "You need to perform preprocessing on the given dataset. Please consider the following tasks and carry out the necessary steps accordingly.\n",
    "- Handling missing values\n",
    "- Handling outliers\n",
    "- Scaling and normalization\n",
    "- Feature Engineering\n",
    "- Handling imbalanced data"
   ]
  },
  {
   "cell_type": "code",
   "execution_count": null,
   "id": "a2c04b67",
   "metadata": {},
   "outputs": [],
   "source": [
    "See Feature Engineering.ipynb"
   ]
  },
  {
   "cell_type": "markdown",
   "id": "5702ddcf",
   "metadata": {},
   "source": [
    "# Part III : Training ML Model"
   ]
  },
  {
   "cell_type": "markdown",
   "id": "ecca0ccc",
   "metadata": {},
   "source": [
    "For this task, you are required to build a machine learning model to predict the outcome variable. This will be a binary classification task, as the target variable is binary. You should select at least two models, one of which should be an ensemble model, and compare their performance.\n",
    "\n",
    "- Train the models: Train the selected models on the training set.\n",
    "- Model evaluation: Evaluate the trained models on the testing set using appropriate evaluation metrics, such as accuracy, precision, recall, F1-score, and ROC-AUC.\n",
    "- Model comparison: Compare the performance of the selected models and choose the best-performing model based on the evaluation metrics. You can also perform additional analysis, such as model tuning and cross-validation, to improve the model's performance."
   ]
  },
  {
   "cell_type": "code",
   "execution_count": null,
   "id": "39675d6b",
   "metadata": {},
   "outputs": [],
   "source": [
    "See Training ML Model.ipynb"
   ]
  },
  {
   "cell_type": "markdown",
   "id": "142ed923",
   "metadata": {},
   "source": [
    "# Part IV : Conclusion"
   ]
  },
  {
   "cell_type": "markdown",
   "id": "8aaec134",
   "metadata": {},
   "source": [
    "From the machine learning models developed and the exploratory data analysis (EDA) conducted, generate four bullet points as your findings."
   ]
  },
  {
   "cell_type": "markdown",
   "id": "c77a9515-fefa-4289-824e-5e6668c2c286",
   "metadata": {},
   "source": [
    "- It seems as if pregnancy is one of the primary contributing factors. This was seen in the PCA, and makes sense intuitively. This does not quite align with what the random forest concluded, but the accuracy of that model is poor enough that it is likely wise to take it with a grain of salt. The PCA gave pregnancy a very high explained variance ratio, at just over 26%. Random forest was barely above 8% for pregnancies.\n",
    "\n",
    "- Glucose was seen by both models to be either the largest or second largest factor correlating with incidences of diabetes. This also makes sense- insulin is used to control glucose levels. Impaired insulin production due to diabetes will probably result in higher blood sugar levels. The PCA contributed 21.7% of the variance to glucose levels. The random forest estimated over 25%.\n",
    "\n",
    "- BMI and Age were the two factors that I initially thought would be the two most principal components, but this turned out to be quite wrong. PCA placed Age last, with less than 5% contribution, and BMI at under 7%.\n",
    "\n",
    "- The diabetes pedigree function predicts the probability of diabetes depending on their family genetics. The PCA predicted that this explains 5.3% of the variation, and the random forest estimated 12.1%. At the very least genetics do not appear to be the largest factor when predicting if someone will have diabetes. This leaves controllable factors such as glucose levels and BMI as the most impactful. This knowledge can be used by individuals to mitigate their risk of developing diabetes later in life. But that isn't exactly a new revelation."
   ]
  }
 ],
 "metadata": {
  "kernelspec": {
   "display_name": "Python 3 (ipykernel)",
   "language": "python",
   "name": "python3"
  },
  "language_info": {
   "codemirror_mode": {
    "name": "ipython",
    "version": 3
   },
   "file_extension": ".py",
   "mimetype": "text/x-python",
   "name": "python",
   "nbconvert_exporter": "python",
   "pygments_lexer": "ipython3",
   "version": "3.11.3"
  }
 },
 "nbformat": 4,
 "nbformat_minor": 5
}
